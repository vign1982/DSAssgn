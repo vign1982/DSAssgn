{
 "cells": [
  {
   "cell_type": "code",
   "execution_count": 1,
   "id": "19727dd2-6010-4fc8-a1fe-7af7c2222d78",
   "metadata": {},
   "outputs": [
    {
     "name": "stdout",
     "output_type": "stream",
     "text": [
      "The value of x after swapping is:  2\n",
      "The value of y after swapping is:  1\n"
     ]
    }
   ],
   "source": [
    "x=1\n",
    "y=2\n",
    "x,y = y,x\n",
    "print (\"The value of x after swapping is: \",x)\n",
    "print (\"The value of y after swapping is: \",y)"
   ]
  },
  {
   "cell_type": "code",
   "execution_count": 2,
   "id": "0bc8d2ad-2a5b-40fe-ab97-aaf5f73e16ba",
   "metadata": {},
   "outputs": [
    {
     "name": "stdin",
     "output_type": "stream",
     "text": [
      "Enter the length of the rectangle:  20\n",
      "Enter the width of the rectangle:  30\n"
     ]
    },
    {
     "name": "stdout",
     "output_type": "stream",
     "text": [
      "The area of the rectangle is: 600.0\n"
     ]
    }
   ],
   "source": [
    "length = float(input(\"Enter the length of the rectangle: \"))\n",
    "width = float(input(\"Enter the width of the rectangle: \"))\n",
    "area = length * width\n",
    "print(\"The area of the rectangle is:\", area)"
   ]
  },
  {
   "cell_type": "code",
   "execution_count": 3,
   "id": "58b5fc40-e806-4e7f-ab50-aef9bcfd86cb",
   "metadata": {},
   "outputs": [
    {
     "name": "stdin",
     "output_type": "stream",
     "text": [
      "Enter the temperature in Celsius:  45\n"
     ]
    },
    {
     "name": "stdout",
     "output_type": "stream",
     "text": [
      "Temperature in Fahrenheit: 113.0\n"
     ]
    }
   ],
   "source": [
    "celsius = float(input(\"Enter the temperature in Celsius: \"))\n",
    "fahrenheit = (celsius * 9/5) + 32\n",
    "print(\"Temperature in Fahrenheit:\", fahrenheit)"
   ]
  },
  {
   "cell_type": "code",
   "execution_count": 4,
   "id": "eb64cfbf-178d-492e-9c35-eda34ca5d170",
   "metadata": {},
   "outputs": [
    {
     "name": "stdin",
     "output_type": "stream",
     "text": [
      "Enter a string:  Vignesh\n"
     ]
    },
    {
     "name": "stdout",
     "output_type": "stream",
     "text": [
      "The length of string is : 7\n"
     ]
    }
   ],
   "source": [
    "a=input(\"Enter a string: \")\n",
    "length = len(a)\n",
    "print(\"The length of string is :\",length)"
   ]
  },
  {
   "cell_type": "code",
   "execution_count": 7,
   "id": "30b2df13-dbcc-4dee-9145-cfe196f497c6",
   "metadata": {},
   "outputs": [
    {
     "name": "stdin",
     "output_type": "stream",
     "text": [
      "Enter a sentence:  I am great\n"
     ]
    },
    {
     "name": "stdout",
     "output_type": "stream",
     "text": [
      "The number of vowels in the sentence is:  4\n"
     ]
    }
   ],
   "source": [
    "sentence = input(\"Enter a sentence: \")\n",
    "vowelcount = 0\n",
    "vowels = set(\"AaEeIiOoUu\")\n",
    "for char in sentence:\n",
    "    if char in vowels:\n",
    "        vowelcount+=1\n",
    "\n",
    "print (\"The number of vowels in the sentence is: \",vowelcount)"
   ]
  },
  {
   "cell_type": "code",
   "execution_count": 8,
   "id": "b50eb3e6-7b34-4a30-8582-3f83f46448be",
   "metadata": {},
   "outputs": [
    {
     "name": "stdin",
     "output_type": "stream",
     "text": [
      "Enter a string:  Great\n"
     ]
    },
    {
     "name": "stdout",
     "output_type": "stream",
     "text": [
      "The reversed string is:  taerG\n"
     ]
    }
   ],
   "source": [
    "string=input(\"Enter a string: \")\n",
    "reversestring = string[::-1]\n",
    "print (\"The reversed string is: \",reversestring)"
   ]
  },
  {
   "cell_type": "code",
   "execution_count": 10,
   "id": "8be8e0c9-9346-4452-aa23-85d5ed85ad97",
   "metadata": {},
   "outputs": [
    {
     "name": "stdin",
     "output_type": "stream",
     "text": [
      "Enter a string:  Malayalam\n"
     ]
    },
    {
     "name": "stdout",
     "output_type": "stream",
     "text": [
      "The string is a palindrome.\n"
     ]
    }
   ],
   "source": [
    "original_string = input(\"Enter a string: \")\n",
    "cleaned_string = original_string.replace(\" \", \"\").lower()\n",
    "if cleaned_string == cleaned_string[::-1]:\n",
    "    print(\"The string is a palindrome.\")\n",
    "else:\n",
    "    print(\"The string is not a palindrome.\")\n"
   ]
  },
  {
   "cell_type": "code",
   "execution_count": 11,
   "id": "c733346d-55d2-4905-a721-cb8ce08c31df",
   "metadata": {},
   "outputs": [
    {
     "name": "stdin",
     "output_type": "stream",
     "text": [
      "Enter a string:  This is great\n"
     ]
    },
    {
     "name": "stdout",
     "output_type": "stream",
     "text": [
      "Modified string without spaces: Thisisgreat\n"
     ]
    }
   ],
   "source": [
    "original_string = input(\"Enter a string: \")\n",
    "modified_string = original_string.replace(\" \", \"\")\n",
    "print(\"Modified string without spaces:\", modified_string)\n"
   ]
  },
  {
   "cell_type": "code",
   "execution_count": null,
   "id": "490e52aa-2e7b-4352-a06d-e7c325cf0976",
   "metadata": {},
   "outputs": [],
   "source": []
  }
 ],
 "metadata": {
  "kernelspec": {
   "display_name": "Python 3 (ipykernel)",
   "language": "python",
   "name": "python3"
  },
  "language_info": {
   "codemirror_mode": {
    "name": "ipython",
    "version": 3
   },
   "file_extension": ".py",
   "mimetype": "text/x-python",
   "name": "python",
   "nbconvert_exporter": "python",
   "pygments_lexer": "ipython3",
   "version": "3.10.8"
  }
 },
 "nbformat": 4,
 "nbformat_minor": 5
}
